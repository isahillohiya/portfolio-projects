{
 "cells": [
  {
   "cell_type": "code",
   "execution_count": null,
   "id": "73c81839",
   "metadata": {},
   "outputs": [],
   "source": [
    "import pandas as pd\n",
    "import numpy as np \n",
    "import matplotlib.pyplot as plt\n",
    "import seaborn as sns\n",
    "import plotly.express as px\n"
   ]
  },
  {
   "cell_type": "code",
   "execution_count": null,
   "id": "a1de0961",
   "metadata": {},
   "outputs": [],
   "source": [
    "churn = pd.read_csv(\"data/bank_churn.csv\") \n",
    "churn.shape"
   ]
  },
  {
   "cell_type": "code",
   "execution_count": null,
   "id": "19df4288",
   "metadata": {},
   "outputs": [],
   "source": [
    "churn"
   ]
  },
  {
   "cell_type": "code",
   "execution_count": null,
   "id": "8a5af5b8",
   "metadata": {},
   "outputs": [],
   "source": [
    "churn.drop(churn.columns[0:3],axis = 1,inplace = True)"
   ]
  },
  {
   "cell_type": "code",
   "execution_count": null,
   "id": "b76213a5",
   "metadata": {},
   "outputs": [],
   "source": [
    "churn['Exited'].value_counts().plot(kind = 'pie', title='Exited')\n",
    "print(churn['Exited'].value_counts(normalize=True))"
   ]
  },
  {
   "cell_type": "code",
   "execution_count": null,
   "id": "7f964888",
   "metadata": {},
   "outputs": [],
   "source": [
    "# Define lists of categorical and numerical features \n",
    "cat_features = [var for var in churn.columns if churn[var].dtype == 'object']\n",
    "print('there are {} categorical variables'.format(len(cat_features)))\n",
    "print(cat_features)\n",
    "#\n",
    "num_features = [var for var in churn.columns if churn[var].dtype in ('int64', 'float64')]\n",
    "print('there are {} numerical variables'.format(len(num_features)))\n",
    "print(num_features)"
   ]
  },
  {
   "cell_type": "code",
   "execution_count": null,
   "id": "2f7ba97c",
   "metadata": {},
   "outputs": [],
   "source": [
    "# distribution plots for categorical features\n",
    "fig, axs = plt.subplots(1, 2, figsize=(12,4))\n",
    "for i, var in enumerate(cat_features):\n",
    "  sns.countplot(x=var, data=churn, ax=axs[i])\n",
    "  print(churn[var].value_counts(normalize=True))"
   ]
  },
  {
   "cell_type": "code",
   "execution_count": null,
   "id": "667aab3c",
   "metadata": {},
   "outputs": [],
   "source": [
    "# distribution plots for categorical features grouped by the target\n",
    "fig, axs = plt.subplots(1, 2, figsize=(12,4))\n",
    "for i, var in enumerate(cat_features):\n",
    "  sns.countplot(x=var, data=churn, ax=axs[i], hue='Exited')"
   ]
  },
  {
   "cell_type": "markdown",
   "id": "391552d9",
   "metadata": {},
   "source": [
    "Half of the customers are from France. The other half is equally divided between Spain and Germany. Gender shows a slight predominance of males. When we group by 'exited', it's clear that the proportions of clients who have churned are different: churn rate in germany is the highest among countries. As for gender, female's churn rate are higher than for males."
   ]
  },
  {
   "cell_type": "code",
   "execution_count": null,
   "id": "f9d1492c",
   "metadata": {},
   "outputs": [],
   "source": [
    "# distribution plots for numerical features\n",
    "fig, axs = plt.subplots(2, 4, figsize=(16,5))\n",
    "for i in range(int(len(num_features)/2)):\n",
    "  sns.boxplot(x='Exited', y=num_features[i], data=churn, ax=axs[0, i])\n",
    "  #axs[0, i].set_title(num_features[i])\n",
    "  sns.boxplot(x='Exited', y=num_features[i+4], data=churn, ax=axs[1, i])\n",
    "  #axs[1, i].set_title(num_features[i+4])\n",
    "fig.tight_layout()\n",
    "plt.show()"
   ]
  },
  {
   "cell_type": "markdown",
   "id": "b85fc8f7",
   "metadata": {},
   "source": [
    "Plots above show us that there are outliers on 'CreditScore' and 'Age' ('NumOfProducts' = 4 doesn't seem to be an outlier). We can also notice that distributions are different for churned cliest for the variables 'Age', 'Tenure' and 'Balance'."
   ]
  },
  {
   "cell_type": "markdown",
   "id": "b41a231f",
   "metadata": {},
   "source": [
    "Numerical Encoding for Categorical Features\n"
   ]
  },
  {
   "cell_type": "code",
   "execution_count": null,
   "id": "b00d8b40",
   "metadata": {},
   "outputs": [],
   "source": [
    "churn['GenderInt'] = pd.factorize(churn['Gender'])[0]\n",
    "num_features.append('GenderInt')\n",
    "churn['GeographyInt'] = pd.factorize(churn['Geography'])[0]\n",
    "num_features.append('GeographyInt')"
   ]
  },
  {
   "cell_type": "code",
   "execution_count": null,
   "id": "c4eefce1",
   "metadata": {},
   "outputs": [],
   "source": [
    "# correlation heatmap function\n",
    "def corr_heatmap(df, method):\n",
    "  df_corr = df.iloc[:,3:].corr(method=method)\n",
    "  mask = np.triu(np.ones_like(df_corr, dtype=np.bool))\n",
    "  fig, ax = plt.subplots(figsize = (10, 10))\n",
    "  sns.heatmap(df_corr, annot=True, vmin=-1, vmax=1, cmap='viridis', linewidths=.5, mask=mask, ax=ax)\n",
    "  plt.show()"
   ]
  },
  {
   "cell_type": "code",
   "execution_count": null,
   "id": "11e7b902",
   "metadata": {},
   "outputs": [],
   "source": [
    "# Pearson Correlation analysis\n",
    "corr_heatmap(churn, 'pearson')"
   ]
  },
  {
   "cell_type": "markdown",
   "id": "87752310",
   "metadata": {},
   "source": [
    "No variables are too highly correlated to be considered a problem. The variables with greater correlation to the target are 'Age', 'IsActiveMember', 'NumOfProducts' and 'Balance'."
   ]
  },
  {
   "cell_type": "code",
   "execution_count": null,
   "id": "44f57a9b",
   "metadata": {},
   "outputs": [],
   "source": [
    "# Separtes X for explanatory feaures and y for target\n",
    "X = churn[num_features]\n",
    "y = X.pop('Exited')\n",
    "print(X.shape)\n",
    "print(y.shape)"
   ]
  },
  {
   "cell_type": "code",
   "execution_count": null,
   "id": "9257f54b",
   "metadata": {},
   "outputs": [],
   "source": []
  },
  {
   "cell_type": "markdown",
   "id": "13b6f249",
   "metadata": {},
   "source": [
    "### Data split"
   ]
  },
  {
   "cell_type": "markdown",
   "id": "0a2eb6b7",
   "metadata": {},
   "source": [
    "Now for modeling purposes, before applying any transformation to the data, it's of capital importance to isolate some data for validation, otherwise we would incur in leakage."
   ]
  },
  {
   "cell_type": "code",
   "execution_count": null,
   "id": "c6d982ff",
   "metadata": {},
   "outputs": [],
   "source": [
    "# splits data into train and validation\n",
    "from sklearn.model_selection import train_test_split\n",
    "X_train, X_valid, y_train, y_valid = train_test_split(X, y, test_size=0.25, random_state=16, stratify=y)\n",
    "print(X_train.shape)\n",
    "print(X_valid.shape)\n",
    "print(y_train.shape)\n",
    "print(y_valid.shape)"
   ]
  },
  {
   "cell_type": "code",
   "execution_count": null,
   "id": "835d2cf5",
   "metadata": {},
   "outputs": [],
   "source": [
    "def outlier_detection(feature, df, low, up):\n",
    "  q1 = df[feature].quantile(low)\n",
    "  q3 = df[feature].quantile(up)\n",
    "  iqr = q3-q1\n",
    "  uf = q3 + 1.5*iqr\n",
    "  lf = q1 - 1.5*iqr\n",
    "  return(uf, lf)\n",
    "\n",
    "def outlier_replacement(feature, uf, lf):\n",
    "  if feature > uf:\n",
    "    clean = uf\n",
    "  elif feature < lf:\n",
    "    clean = lf\n",
    "  else:\n",
    "    clean = feature\n",
    "  return clean"
   ]
  },
  {
   "cell_type": "code",
   "execution_count": null,
   "id": "62df8631",
   "metadata": {},
   "outputs": [],
   "source": [
    "# 'CreditScore' outlier treatment\n",
    "\n",
    "uf, lf = outlier_detection('CreditScore', X_train, 0.25, 0.75)\n",
    "print(uf, lf)\n",
    "clean = np.vectorize(outlier_replacement)(X_train['CreditScore'], uf, lf)\n",
    "print(len(clean),'=' , X_train.shape[0])\n",
    "X_train['CreditScore_clean'] = clean\n",
    "clean = np.vectorize(outlier_replacement)(X_valid['CreditScore'], uf, lf)\n",
    "print(len(clean),'=' , X_valid.shape[0])\n",
    "X_valid['CreditScore_clean'] = clean\n",
    "\n",
    "fig, axs = plt.subplots(2, 2, figsize=(10,8))\n",
    "sns.violinplot(x='CreditScore', data=X_train, ax=axs[0, 0])\n",
    "axs[0, 0].set_title('X_train CreditScore original distribution')\n",
    "sns.violinplot(x='CreditScore_clean', data=X_train, ax=axs[0, 1])\n",
    "axs[0, 1].set_title('X_train CreditScore clean distribution')\n",
    "#\n",
    "sns.violinplot(x='CreditScore', data=X_valid, ax=axs[1, 0])\n",
    "axs[1, 0].set_title('X_valid CreditScore original distribution')\n",
    "sns.violinplot(x='CreditScore_clean', data=X_valid, ax=axs[1, 1])\n",
    "axs[1, 1].set_title('X_valid CreditScore clean distribution')\n",
    "#\n",
    "fig.tight_layout()\n",
    "plt.show()"
   ]
  },
  {
   "cell_type": "code",
   "execution_count": null,
   "id": "614d8a14",
   "metadata": {},
   "outputs": [],
   "source": [
    "# 'Age' outlier treatment\n",
    "\n",
    "uf, lf = outlier_detection('Age', X_train, 0.25, 0.75)\n",
    "print(uf, lf)\n",
    "clean = np.vectorize(outlier_replacement)(X_train['Age'], uf, lf)\n",
    "print(len(clean),'=' , X_train.shape[0])\n",
    "X_train['Age_clean'] = clean\n",
    "clean = np.vectorize(outlier_replacement)(X_valid['Age'], uf, lf)\n",
    "print(len(clean),'=' , X_valid.shape[0])\n",
    "X_valid['Age_clean'] = clean\n",
    "\n",
    "fig, axs = plt.subplots(2, 2, figsize=(10,8))\n",
    "sns.violinplot(x='Age', data=X_train, ax=axs[0, 0])\n",
    "axs[0, 0].set_title('X_train Age original distribution')\n",
    "sns.violinplot(x='Age_clean', data=X_train, ax=axs[0, 1])\n",
    "axs[0, 1].set_title('X_train Age clean distribution')\n",
    "#\n",
    "sns.violinplot(x='Age', data=X_valid, ax=axs[1, 0])\n",
    "axs[1, 0].set_title('X_valid Age original distribution')\n",
    "sns.violinplot(x='Age_clean', data=X_valid, ax=axs[1, 1])\n",
    "axs[1, 1].set_title('X_valid Age clean distribution')\n",
    "#\n",
    "fig.tight_layout()\n",
    "plt.show()"
   ]
  },
  {
   "cell_type": "code",
   "execution_count": null,
   "id": "d489ec94",
   "metadata": {},
   "outputs": [],
   "source": [
    "# replace variables by their clean versions (i.e. without outliers) \n",
    "num_features.remove('CreditScore')\n",
    "num_features.append('CreditScore_clean')\n",
    "#\n",
    "num_features.remove('Exited')\n",
    "num_features.remove('Age')\n",
    "num_features.append('Age_clean')"
   ]
  },
  {
   "cell_type": "code",
   "execution_count": null,
   "id": "5400e28e",
   "metadata": {},
   "outputs": [],
   "source": [
    "X_train = X_train[num_features]\n",
    "print(X_train.shape)\n",
    "X_valid = X_valid[num_features]\n",
    "print(X_valid.shape)"
   ]
  },
  {
   "cell_type": "markdown",
   "id": "2f667ec0",
   "metadata": {},
   "source": [
    "Scaling"
   ]
  },
  {
   "cell_type": "code",
   "execution_count": null,
   "id": "a75801a0",
   "metadata": {},
   "outputs": [],
   "source": [
    "# Scaling\n",
    "from sklearn.preprocessing import StandardScaler\n",
    "\n",
    "scaler = StandardScaler()\n",
    "\n",
    "vars_scale = ['Tenure', 'Balance', 'NumOfProducts', 'EstimatedSalary', 'CreditScore_clean', 'Age_clean']\n",
    "\n",
    "X_train_scaled = pd.DataFrame(scaler.fit_transform(X_train[vars_scale]), columns=X_train[vars_scale].columns)\n",
    "X_train_scaled.set_index(X_train.index, inplace=True)\n",
    "print(X_train_scaled.shape)\n",
    "\n",
    "X_valid_scaled = pd.DataFrame(scaler.transform(X_valid[vars_scale]), columns=X_valid[vars_scale].columns)\n",
    "X_valid_scaled.set_index(X_valid.index, inplace=True)\n",
    "print(X_valid_scaled.shape)"
   ]
  },
  {
   "cell_type": "code",
   "execution_count": null,
   "id": "47ca772f",
   "metadata": {},
   "outputs": [],
   "source": [
    "X_train_final = pd.concat([X_train[['HasCrCard', 'IsActiveMember', 'GenderInt', 'GeographyInt']], X_train_scaled], axis=1)\n",
    "print(X_train_final.shape)\n",
    "X_train_final.head(2)"
   ]
  },
  {
   "cell_type": "code",
   "execution_count": null,
   "id": "a1aabcda",
   "metadata": {},
   "outputs": [],
   "source": [
    "from skopt import BayesSearchCV"
   ]
  },
  {
   "cell_type": "code",
   "execution_count": null,
   "id": "6014337b",
   "metadata": {},
   "outputs": [],
   "source": [
    "from sklearn.linear_model import LogisticRegression\n",
    "\n",
    "opt = BayesSearchCV(\n",
    "    LogisticRegression(),\n",
    "    {\n",
    "        'penalty': ['l2'],\n",
    "        'C': (1e-1, 1e1, 'log-uniform'),\n",
    "        'tol': (1e-6, 1e-3, 'log-uniform'),\n",
    "        'solver': ['newton-cg', 'lbfgs', 'liblinear', 'sag', 'saga']\n",
    "    },\n",
    "    n_iter=32,\n",
    "    cv=3\n",
    ")\n",
    "\n",
    "opt.fit(X_train_final, y_train)\n",
    "\n",
    "print(\"test score: %s\" % opt.best_score_)\n",
    "print(\"valid score: %s\" % opt.score(X_valid_final, y_valid))\n",
    "print(\"best params: %s\" % str(opt.best_params_))"
   ]
  },
  {
   "cell_type": "code",
   "execution_count": null,
   "id": "5beccc15",
   "metadata": {},
   "outputs": [],
   "source": [
    "from sklearn.metrics import classification_report\n",
    "\n",
    "y_pred = opt.best_estimator_.predict(X_valid_final)\n",
    "\n",
    "print(classification_report(y_valid, y_pred))"
   ]
  },
  {
   "cell_type": "code",
   "execution_count": null,
   "id": "075977b8",
   "metadata": {},
   "outputs": [],
   "source": [
    "from sklearn.metrics import classification_report\n",
    "\n",
    "y_pred = opt.best_estimator_.predict(X_valid_final)\n",
    "\n",
    "print(classification_report(y_valid, y_pred))"
   ]
  },
  {
   "cell_type": "code",
   "execution_count": null,
   "id": "89eafc4f",
   "metadata": {},
   "outputs": [],
   "source": [
    "reglog = opt.best_estimator_"
   ]
  },
  {
   "cell_type": "markdown",
   "id": "fcc4c52b",
   "metadata": {},
   "source": [
    "## SVM"
   ]
  },
  {
   "cell_type": "code",
   "execution_count": null,
   "id": "a68611fb",
   "metadata": {},
   "outputs": [],
   "source": [
    "from sklearn.svm import SVC\n",
    "\n",
    "opt = BayesSearchCV(\n",
    "    SVC(),\n",
    "    {\n",
    "        'C': (1e-1, 1e1, 'log-uniform'),\n",
    "        'kernel': ['linear', 'poly', 'rbf', 'sigmoid'],\n",
    "        'degree': (1, 3),\n",
    "        'tol': (1e-5, 1e-3, 'log-uniform'),\n",
    "        #'gamma': ['scale', 'auto']\n",
    "    },\n",
    "    n_iter=32,\n",
    "    cv=3\n",
    ")\n",
    "\n",
    "opt.fit(X_train_final, y_train)\n",
    "\n",
    "print(\"val. score: %s\" % opt.best_score_)\n",
    "print(\"test score: %s\" % opt.score(X_valid_final, y_valid))\n",
    "print(\"best params: %s\" % str(opt.best_params_))"
   ]
  },
  {
   "cell_type": "code",
   "execution_count": null,
   "id": "b69362fa",
   "metadata": {},
   "outputs": [],
   "source": [
    "from sklearn.metrics import classification_report\n",
    "\n",
    "y_pred = opt.best_estimator_.predict(X_valid_final)\n",
    "\n",
    "print(classification_report(y_valid, y_pred))"
   ]
  },
  {
   "cell_type": "code",
   "execution_count": null,
   "id": "cdf14740",
   "metadata": {},
   "outputs": [],
   "source": [
    "from sklearn.metrics import plot_confusion_matrix\n",
    "\n",
    "plot_confusion_matrix(opt.best_estimator_, X_valid_final, y_valid)"
   ]
  },
  {
   "cell_type": "code",
   "execution_count": null,
   "id": "993a313c",
   "metadata": {},
   "outputs": [],
   "source": [
    "svm = opt.best_estimator_"
   ]
  },
  {
   "cell_type": "markdown",
   "id": "8398986e",
   "metadata": {},
   "source": [
    "Randome Forest "
   ]
  },
  {
   "cell_type": "code",
   "execution_count": null,
   "id": "eb28efba",
   "metadata": {},
   "outputs": [],
   "source": [
    "from sklearn.ensemble import RandomForestClassifier\n",
    "\n",
    "opt = BayesSearchCV(\n",
    "    RandomForestClassifier(),\n",
    "    {\n",
    "        'n_estimators': [200, 400, 800, 1000, 1500, 2000],\n",
    "        #'criterion': ['gini', 'entropy'],\n",
    "        'min_samples_split': (2, 7),\n",
    "        #'min_samples_leaf': (1, 7),\n",
    "        'max_features': ['auto', 'sqrt', 'log2'],\n",
    "        'bootstrap': [True, False]\n",
    "    },\n",
    "    n_iter=32,\n",
    "    cv=3\n",
    ")\n",
    "\n",
    "opt.fit(X_train_final, y_train)\n",
    "\n",
    "print(\"val. score: %s\" % opt.best_score_)\n",
    "print(\"test score: %s\" % opt.score(X_valid_final, y_valid))"
   ]
  },
  {
   "cell_type": "code",
   "execution_count": null,
   "id": "7d8a8d3c",
   "metadata": {},
   "outputs": [],
   "source": [
    "from sklearn.metrics import classification_report\n",
    "\n",
    "y_pred = opt.best_estimator_.predict(X_valid_final)\n",
    "\n",
    "print(classification_report(y_valid, y_pred))"
   ]
  },
  {
   "cell_type": "code",
   "execution_count": null,
   "id": "d37de266",
   "metadata": {},
   "outputs": [],
   "source": [
    "from sklearn.metrics import plot_confusion_matrix\n",
    "\n",
    "plot_confusion_matrix(opt.best_estimator_, X_valid_final, y_valid)"
   ]
  },
  {
   "cell_type": "code",
   "execution_count": null,
   "id": "a46fae0c",
   "metadata": {},
   "outputs": [],
   "source": [
    "rf = opt.best_estimator_"
   ]
  },
  {
   "cell_type": "markdown",
   "id": "dbe355aa",
   "metadata": {},
   "source": [
    "XGboost"
   ]
  },
  {
   "cell_type": "code",
   "execution_count": null,
   "id": "bc572c63",
   "metadata": {},
   "outputs": [],
   "source": [
    "pip install xgboost"
   ]
  },
  {
   "cell_type": "code",
   "execution_count": null,
   "id": "805622c4",
   "metadata": {},
   "outputs": [],
   "source": [
    "from xgboost import XGBClassifier\n",
    "\n",
    "opt = BayesSearchCV(\n",
    "    XGBClassifier(),\n",
    "    {\n",
    "        'learning_rate': (1e-5, 1e-1, 'log-uniform'),\n",
    "        'min_split_loss': [0.05, 0.1, 0.3, 0.5, 0.75, 1],\n",
    "        'max_depth': (3, 15),\n",
    "        #'min_child_weight': (3, 7),\n",
    "        'subsample': (1e-2, 0.9999, 'log-uniform'),\n",
    "        #'colsample_bytree': (1e-2, 1, 'log-uniform'),\n",
    "        #'reg_lambda': (1e-2, 1, 'log-uniform'),\n",
    "        #reg_alpha': (1e-2, 1, 'log-uniform'),\n",
    "    },\n",
    "    n_iter=32,\n",
    "    cv=3\n",
    ")\n",
    "\n",
    "opt.fit(X_train_final, y_train)\n",
    "\n",
    "print(\"val. score: %s\" % opt.best_score_)\n",
    "print(\"test score: %s\" % opt.score(X_valid_final, y_valid))"
   ]
  },
  {
   "cell_type": "code",
   "execution_count": null,
   "id": "86ddd41f",
   "metadata": {},
   "outputs": [],
   "source": [
    "from sklearn.metrics import classification_report\n",
    "\n",
    "y_pred = opt.best_estimator_.predict(X_valid_final)\n",
    "\n",
    "print(classification_report(y_valid, y_pred))"
   ]
  },
  {
   "cell_type": "code",
   "execution_count": null,
   "id": "d3468ea3",
   "metadata": {},
   "outputs": [],
   "source": [
    "from sklearn.metrics import plot_confusion_matrix\n",
    "\n",
    "plot_confusion_matrix(opt.best_estimator_, X_valid_final, y_valid)"
   ]
  },
  {
   "cell_type": "code",
   "execution_count": null,
   "id": "9a693ccb",
   "metadata": {},
   "outputs": [],
   "source": [
    "xgb = opt.best_estimator_"
   ]
  },
  {
   "cell_type": "code",
   "execution_count": null,
   "id": "281a686f",
   "metadata": {},
   "outputs": [],
   "source": []
  },
  {
   "cell_type": "code",
   "execution_count": null,
   "id": "28c2d648",
   "metadata": {},
   "outputs": [],
   "source": [
    "print(X_train_final.shape)\n",
    "print(y_train.shape)\n",
    "print(X_valid_final.shape)\n",
    "print(y_valid.shape)"
   ]
  },
  {
   "cell_type": "code",
   "execution_count": null,
   "id": "94a73d90",
   "metadata": {},
   "outputs": [],
   "source": [
    "print(y_train.value_counts())\n",
    "print(y_train.value_counts(normalize=True))"
   ]
  },
  {
   "cell_type": "markdown",
   "id": "26887250",
   "metadata": {},
   "source": [
    "### Oversampling\n",
    "Let's apply SMOTE for oversampling the minority class"
   ]
  },
  {
   "cell_type": "code",
   "execution_count": null,
   "id": "99212d4f",
   "metadata": {},
   "outputs": [],
   "source": [
    "pip install imblearn"
   ]
  },
  {
   "cell_type": "code",
   "execution_count": null,
   "id": "8f08e110",
   "metadata": {},
   "outputs": [],
   "source": [
    "from imblearn.over_sampling import SMOTE\n",
    "oversample = SMOTE()\n",
    "X_train_balanced, y_train_balanced = oversample.fit_resample(X_train_final, y_train)\n",
    "\n",
    "print(X_train_balanced.shape)\n",
    "print(y_train_balanced.shape)\n",
    "\n",
    "print(y_train_balanced.value_counts())\n",
    "print(y_train_balanced.value_counts(normalize=True))"
   ]
  },
  {
   "cell_type": "code",
   "execution_count": null,
   "id": "ca7eec95",
   "metadata": {},
   "outputs": [],
   "source": [
    "%%time\n",
    "opt = BayesSearchCV(\n",
    "    LogisticRegression(),\n",
    "    {\n",
    "        'penalty': ['l2'],\n",
    "        'C': (1e-1, 1e1, 'log-uniform'),\n",
    "        'tol': (1e-6, 1e-3, 'log-uniform'),\n",
    "        'solver': ['newton-cg', 'lbfgs', 'liblinear', 'sag', 'saga']\n",
    "    },\n",
    "    n_iter=32,\n",
    "    cv=3\n",
    ")\n",
    "\n",
    "opt.fit(X_train_balanced, y_train_balanced)\n",
    "\n",
    "print(\"test score: %s\" % opt.best_score_)\n",
    "print(\"valid score: %s\" % opt.score(X_valid_final, y_valid))\n",
    "print(\"best params: %s\" % str(opt.best_params_))"
   ]
  },
  {
   "cell_type": "code",
   "execution_count": null,
   "id": "40e4bee1",
   "metadata": {},
   "outputs": [],
   "source": [
    "y_pred = opt.best_estimator_.predict(X_valid_final)\n",
    "\n",
    "print(classification_report(y_valid, y_pred))"
   ]
  },
  {
   "cell_type": "code",
   "execution_count": null,
   "id": "13ede2c2",
   "metadata": {},
   "outputs": [],
   "source": [
    "from sklearn.metrics import plot_confusion_matrix\n",
    "\n",
    "plot_confusion_matrix(opt.best_estimator_, X_valid_final, y_valid)"
   ]
  },
  {
   "cell_type": "code",
   "execution_count": null,
   "id": "c4d6555f",
   "metadata": {},
   "outputs": [],
   "source": [
    "reglog = opt.best_estimator_"
   ]
  },
  {
   "cell_type": "markdown",
   "id": "5599fb00",
   "metadata": {},
   "source": [
    "### SVM"
   ]
  },
  {
   "cell_type": "code",
   "execution_count": null,
   "id": "20649c32",
   "metadata": {},
   "outputs": [],
   "source": [
    "%%time\n",
    "opt = BayesSearchCV(\n",
    "    SVC(),\n",
    "    {\n",
    "        'C': (1e-1, 1e1, 'log-uniform'),\n",
    "        'kernel': ['linear', 'poly', 'rbf', 'sigmoid'],\n",
    "        'degree': (1, 3),\n",
    "        'tol': (1e-5, 1e-3, 'log-uniform'),\n",
    "        #'gamma': ['scale', 'auto']\n",
    "    },\n",
    "    n_iter=32,\n",
    "    cv=3\n",
    ")\n",
    "\n",
    "opt.fit(X_train_balanced, y_train_balanced)\n",
    "\n",
    "print(\"val. score: %s\" % opt.best_score_)\n",
    "print(\"test score: %s\" % opt.score(X_valid_final, y_valid))\n",
    "print(\"best params: %s\" % str(opt.best_params_))"
   ]
  },
  {
   "cell_type": "code",
   "execution_count": null,
   "id": "aafe8598",
   "metadata": {},
   "outputs": [],
   "source": [
    "from sklearn.metrics import classification_report\n",
    "\n",
    "y_pred = opt.best_estimator_.predict(X_valid_final)\n",
    "\n",
    "print(classification_report(y_valid, y_pred))"
   ]
  },
  {
   "cell_type": "code",
   "execution_count": null,
   "id": "14dd5e03",
   "metadata": {},
   "outputs": [],
   "source": [
    "from sklearn.metrics import plot_confusion_matrix\n",
    "\n",
    "plot_confusion_matrix(opt.best_estimator_, X_valid_final, y_valid)"
   ]
  },
  {
   "cell_type": "code",
   "execution_count": null,
   "id": "9a3d9fc6",
   "metadata": {},
   "outputs": [],
   "source": [
    "svm = opt.best_estimator_\n"
   ]
  },
  {
   "cell_type": "markdown",
   "id": "4b527f89",
   "metadata": {},
   "source": [
    "Random Forest\n"
   ]
  },
  {
   "cell_type": "code",
   "execution_count": null,
   "id": "0e578044",
   "metadata": {},
   "outputs": [],
   "source": [
    "%%time\n",
    "opt = BayesSearchCV(\n",
    "    RandomForestClassifier(),\n",
    "    {\n",
    "        'n_estimators': [200, 400, 800, 1000, 1500, 2000],\n",
    "        #'criterion': ['gini', 'entropy'],\n",
    "        'min_samples_split': (2, 7),\n",
    "        #'min_samples_leaf': (1, 7),\n",
    "        'max_features': ['auto', 'sqrt', 'log2'],\n",
    "        'bootstrap': [True, False]\n",
    "    },\n",
    "    n_iter=32,\n",
    "    cv=3\n",
    ")\n",
    "\n",
    "opt.fit(X_train_balanced, y_train_balanced)\n",
    "\n",
    "print(\"val. score: %s\" % opt.best_score_)\n",
    "print(\"test score: %s\" % opt.score(X_valid_final, y_valid))\n",
    "print(\"best params: %s\" % str(opt.best_params_))"
   ]
  },
  {
   "cell_type": "code",
   "execution_count": null,
   "id": "26baf20e",
   "metadata": {},
   "outputs": [],
   "source": [
    "from sklearn.metrics import classification_report\n",
    "\n",
    "y_pred = opt.best_estimator_.predict(X_valid_final)\n",
    "\n",
    "print(classification_report(y_valid, y_pred))"
   ]
  },
  {
   "cell_type": "code",
   "execution_count": null,
   "id": "909cfbf5",
   "metadata": {},
   "outputs": [],
   "source": [
    "from sklearn.metrics import plot_confusion_matrix\n",
    "\n",
    "plot_confusion_matrix(opt.best_estimator_, X_valid_final, y_valid)"
   ]
  },
  {
   "cell_type": "code",
   "execution_count": null,
   "id": "e582c9c0",
   "metadata": {},
   "outputs": [],
   "source": [
    "rf = opt.best_estimator_"
   ]
  },
  {
   "cell_type": "markdown",
   "id": "472a9bf7",
   "metadata": {},
   "source": [
    "XG boost"
   ]
  },
  {
   "cell_type": "code",
   "execution_count": null,
   "id": "ce5c61ea",
   "metadata": {},
   "outputs": [],
   "source": [
    "%%time\n",
    "opt = BayesSearchCV(\n",
    "    XGBClassifier(),\n",
    "    {\n",
    "        'learning_rate': (1e-5, 1e-1, 'log-uniform'),\n",
    "        'min_split_loss': [0.05, 0.1, 0.3, 0.5, 0.75, 1],\n",
    "        'max_depth': (3, 15),\n",
    "        #'min_child_weight': (3, 7),\n",
    "        'subsample': (1e-2, 0.9999, 'log-uniform'),\n",
    "        #'colsample_bytree': (1e-2, 1, 'log-uniform'),\n",
    "        #'reg_lambda': (1e-2, 1, 'log-uniform'),\n",
    "        #reg_alpha': (1e-2, 1, 'log-uniform'),\n",
    "    },\n",
    "    n_iter=32,\n",
    "    cv=3\n",
    ")\n",
    "\n",
    "opt.fit(X_train_balanced, y_train_balanced)\n",
    "\n",
    "print(\"val. score: %s\" % opt.best_score_)\n",
    "print(\"test score: %s\" % opt.score(X_valid_final, y_valid))\n",
    "print(\"best params: %s\" % str(opt.best_params_))"
   ]
  },
  {
   "cell_type": "code",
   "execution_count": null,
   "id": "205ed035",
   "metadata": {},
   "outputs": [],
   "source": [
    "from sklearn.metrics import plot_confusion_matrix\n",
    "\n",
    "plot_confusion_matrix(opt.best_estimator_, X_valid_final, y_valid)"
   ]
  },
  {
   "cell_type": "code",
   "execution_count": null,
   "id": "de2e21e1",
   "metadata": {},
   "outputs": [],
   "source": [
    "xgb = opt.best_estimator_"
   ]
  },
  {
   "cell_type": "markdown",
   "id": "8ab85eef",
   "metadata": {},
   "source": [
    "Undersampling the majority class"
   ]
  },
  {
   "cell_type": "code",
   "execution_count": null,
   "id": "908d8fea",
   "metadata": {},
   "outputs": [],
   "source": [
    "from imblearn.under_sampling import RandomUnderSampler\n",
    "undersample = RandomUnderSampler()\n",
    "X_train_balanced, y_train_balanced = undersample.fit_resample(X_train_final, y_train)\n",
    "\n",
    "print(X_train_balanced.shape)\n",
    "print(y_train_balanced.shape)\n",
    "\n",
    "print(y_train_balanced.value_counts())\n",
    "print(y_train_balanced.value_counts(normalize=True))"
   ]
  },
  {
   "cell_type": "code",
   "execution_count": null,
   "id": "e54a4711",
   "metadata": {},
   "outputs": [],
   "source": [
    "%%time\n",
    "opt = BayesSearchCV(\n",
    "    LogisticRegression(),\n",
    "    {\n",
    "        'penalty': ['l2'],\n",
    "        'C': (1e-1, 1e1, 'log-uniform'),\n",
    "        'tol': (1e-6, 1e-3, 'log-uniform'),\n",
    "        'solver': ['newton-cg', 'lbfgs', 'liblinear', 'sag', 'saga']\n",
    "    },\n",
    "    n_iter=32,\n",
    "    cv=3\n",
    ")\n",
    "\n",
    "opt.fit(X_train_balanced, y_train_balanced)\n",
    "\n",
    "print(\"test score: %s\" % opt.best_score_)\n",
    "print(\"valid score: %s\" % opt.score(X_valid_final, y_valid))\n",
    "print(\"best params: %s\" % str(opt.best_params_))"
   ]
  },
  {
   "cell_type": "code",
   "execution_count": null,
   "id": "977e7c22",
   "metadata": {},
   "outputs": [],
   "source": [
    "y_pred = opt.best_estimator_.predict(X_valid_final)\n",
    "\n",
    "print(classification_report(y_valid, y_pred))\n"
   ]
  },
  {
   "cell_type": "code",
   "execution_count": null,
   "id": "ea63b32e",
   "metadata": {},
   "outputs": [],
   "source": [
    "from sklearn.metrics import plot_confusion_matrix\n",
    "\n",
    "plot_confusion_matrix(opt.best_estimator_, X_valid_final, y_valid)"
   ]
  },
  {
   "cell_type": "code",
   "execution_count": null,
   "id": "d7eba6d6",
   "metadata": {},
   "outputs": [],
   "source": [
    "reglog = opt.best_estimator_"
   ]
  },
  {
   "cell_type": "markdown",
   "id": "a228ef36",
   "metadata": {},
   "source": [
    "SVM"
   ]
  },
  {
   "cell_type": "code",
   "execution_count": null,
   "id": "2adbb7b0",
   "metadata": {},
   "outputs": [],
   "source": [
    "%%time\n",
    "opt = BayesSearchCV(\n",
    "    SVC(),\n",
    "    {\n",
    "        'C': (1e-1, 1e1, 'log-uniform'),\n",
    "        'kernel': ['linear', 'poly', 'rbf', 'sigmoid'],\n",
    "        'degree': (1, 3),\n",
    "        'tol': (1e-5, 1e-3, 'log-uniform'),\n",
    "        #'gamma': ['scale', 'auto']\n",
    "    },\n",
    "    n_iter=32,\n",
    "    cv=3\n",
    ")\n",
    "\n",
    "opt.fit(X_train_balanced, y_train_balanced)\n",
    "\n",
    "print(\"val. score: %s\" % opt.best_score_)\n",
    "print(\"test score: %s\" % opt.score(X_valid_final, y_valid))\n",
    "print(\"best params: %s\" % str(opt.best_params_))"
   ]
  },
  {
   "cell_type": "code",
   "execution_count": null,
   "id": "2b515b7a",
   "metadata": {},
   "outputs": [],
   "source": [
    "from sklearn.metrics import classification_report\n",
    "\n",
    "y_pred = opt.best_estimator_.predict(X_valid_final)\n",
    "\n",
    "print(classification_report(y_valid, y_pred))"
   ]
  },
  {
   "cell_type": "code",
   "execution_count": null,
   "id": "efe98379",
   "metadata": {},
   "outputs": [],
   "source": [
    "from sklearn.metrics import plot_confusion_matrix\n",
    "\n",
    "plot_confusion_matrix(opt.best_estimator_, X_valid_final, y_valid)"
   ]
  },
  {
   "cell_type": "code",
   "execution_count": null,
   "id": "28f1a954",
   "metadata": {},
   "outputs": [],
   "source": [
    "svm = opt.best_estimator_"
   ]
  },
  {
   "cell_type": "markdown",
   "id": "3a6c4826",
   "metadata": {},
   "source": [
    "Random Forest"
   ]
  },
  {
   "cell_type": "code",
   "execution_count": null,
   "id": "843dc00b",
   "metadata": {},
   "outputs": [],
   "source": [
    "%%time\n",
    "opt = BayesSearchCV(\n",
    "    RandomForestClassifier(),\n",
    "    {\n",
    "        'n_estimators': [200, 400, 800, 1000, 1500, 2000],\n",
    "        #'criterion': ['gini', 'entropy'],\n",
    "        'min_samples_split': (2, 7),\n",
    "        #'min_samples_leaf': (1, 7),\n",
    "        'max_features': ['auto', 'sqrt', 'log2'],\n",
    "        'bootstrap': [True, False]\n",
    "    },\n",
    "    n_iter=32,\n",
    "    cv=3\n",
    ")\n",
    "\n",
    "opt.fit(X_train_balanced, y_train_balanced)\n",
    "\n",
    "print(\"val. score: %s\" % opt.best_score_)\n",
    "print(\"test score: %s\" % opt.score(X_valid_final, y_valid))\n",
    "print(\"best params: %s\" % str(opt.best_params_))"
   ]
  },
  {
   "cell_type": "code",
   "execution_count": null,
   "id": "7d8fe791",
   "metadata": {},
   "outputs": [],
   "source": [
    "from sklearn.metrics import classification_report\n",
    "\n",
    "y_pred = opt.best_estimator_.predict(X_valid_final)\n",
    "\n",
    "print(classification_report(y_valid, y_pred))"
   ]
  },
  {
   "cell_type": "code",
   "execution_count": null,
   "id": "60b8099a",
   "metadata": {},
   "outputs": [],
   "source": [
    "from sklearn.metrics import plot_confusion_matrix\n",
    "\n",
    "plot_confusion_matrix(opt.best_estimator_, X_valid_final, y_valid)"
   ]
  },
  {
   "cell_type": "code",
   "execution_count": null,
   "id": "805cddb6",
   "metadata": {},
   "outputs": [],
   "source": [
    "rf = opt.best_estimator_"
   ]
  },
  {
   "cell_type": "markdown",
   "id": "e950c033",
   "metadata": {},
   "source": [
    "XGBoost"
   ]
  },
  {
   "cell_type": "code",
   "execution_count": null,
   "id": "582cfa96",
   "metadata": {},
   "outputs": [],
   "source": [
    "%%time\n",
    "opt = BayesSearchCV(\n",
    "    XGBClassifier(),\n",
    "    {\n",
    "        'learning_rate': (1e-5, 1e-1, 'log-uniform'),\n",
    "        'min_split_loss': [0.05, 0.1, 0.3, 0.5, 0.75, 1],\n",
    "        'max_depth': (3, 15),\n",
    "        #'min_child_weight': (3, 7),\n",
    "        'subsample': (1e-2, 0.9999, 'log-uniform'),\n",
    "        #'colsample_bytree': (1e-2, 1, 'log-uniform'),\n",
    "        #'reg_lambda': (1e-2, 1, 'log-uniform'),\n",
    "        #reg_alpha': (1e-2, 1, 'log-uniform'),\n",
    "    },\n",
    "    n_iter=32,\n",
    "    cv=3\n",
    ")\n",
    "\n",
    "opt.fit(X_train_balanced, y_train_balanced)\n",
    "\n",
    "print(\"val. score: %s\" % opt.best_score_)\n",
    "print(\"test score: %s\" % opt.score(X_valid_final, y_valid))\n",
    "print(\"best params: %s\" % str(opt.best_params_))"
   ]
  },
  {
   "cell_type": "code",
   "execution_count": null,
   "id": "97c07a62",
   "metadata": {},
   "outputs": [],
   "source": [
    "from sklearn.metrics import classification_report\n",
    "\n",
    "y_pred = opt.best_estimator_.predict(X_valid_final)\n",
    "\n",
    "print(classification_report(y_valid, y_pred))"
   ]
  },
  {
   "cell_type": "code",
   "execution_count": null,
   "id": "c4bf90a5",
   "metadata": {},
   "outputs": [],
   "source": [
    "from sklearn.metrics import plot_confusion_matrix\n",
    "\n",
    "plot_confusion_matrix(opt.best_estimator_, X_valid_final, y_valid)"
   ]
  },
  {
   "cell_type": "code",
   "execution_count": null,
   "id": "0c45a752",
   "metadata": {},
   "outputs": [],
   "source": [
    "xgb = opt.best_estimator_"
   ]
  },
  {
   "cell_type": "markdown",
   "id": "54bb2df0",
   "metadata": {},
   "source": [
    "Undersampling didn't improve results either. At best, they are very similar to the ones we got without adopting any sampling strategy. Again, SVM showed a small improvement."
   ]
  },
  {
   "cell_type": "markdown",
   "id": "ceade814",
   "metadata": {},
   "source": [
    "**Final coments** <br>\n",
    "Results show that XGBoost, a tree based method, presented the best results."
   ]
  },
  {
   "cell_type": "code",
   "execution_count": null,
   "id": "9176c4ee",
   "metadata": {},
   "outputs": [],
   "source": []
  }
 ],
 "metadata": {
  "kernelspec": {
   "display_name": "Python 3 (ipykernel)",
   "language": "python",
   "name": "python3"
  },
  "language_info": {
   "codemirror_mode": {
    "name": "ipython",
    "version": 3
   },
   "file_extension": ".py",
   "mimetype": "text/x-python",
   "name": "python",
   "nbconvert_exporter": "python",
   "pygments_lexer": "ipython3",
   "version": "3.9.7"
  }
 },
 "nbformat": 4,
 "nbformat_minor": 5
}
