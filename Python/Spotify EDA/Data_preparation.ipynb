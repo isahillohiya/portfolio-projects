{
 "cells": [
  {
   "cell_type": "code",
   "execution_count": 1,
   "id": "3b3a4116",
   "metadata": {},
   "outputs": [],
   "source": [
    "import pandas as pd \n",
    "import numpy as np \n"
   ]
  },
  {
   "cell_type": "code",
   "execution_count": 3,
   "id": "d90b443c",
   "metadata": {
    "scrolled": true
   },
   "outputs": [],
   "source": [
    "history = pd.read_json('MyData/StreamingHistory0.json')\n"
   ]
  },
  {
   "cell_type": "code",
   "execution_count": 34,
   "id": "5138bc9f",
   "metadata": {},
   "outputs": [
    {
     "data": {
      "text/html": [
       "<div>\n",
       "<style scoped>\n",
       "    .dataframe tbody tr th:only-of-type {\n",
       "        vertical-align: middle;\n",
       "    }\n",
       "\n",
       "    .dataframe tbody tr th {\n",
       "        vertical-align: top;\n",
       "    }\n",
       "\n",
       "    .dataframe thead th {\n",
       "        text-align: right;\n",
       "    }\n",
       "</style>\n",
       "<table border=\"1\" class=\"dataframe\">\n",
       "  <thead>\n",
       "    <tr style=\"text-align: right;\">\n",
       "      <th></th>\n",
       "      <th>endTime</th>\n",
       "      <th>artistName</th>\n",
       "      <th>trackName</th>\n",
       "      <th>msPlayed</th>\n",
       "    </tr>\n",
       "  </thead>\n",
       "  <tbody>\n",
       "    <tr>\n",
       "      <th>0</th>\n",
       "      <td>2020-12-30 15:23</td>\n",
       "      <td>Dastic</td>\n",
       "      <td>With Me</td>\n",
       "      <td>89517</td>\n",
       "    </tr>\n",
       "    <tr>\n",
       "      <th>1</th>\n",
       "      <td>2020-12-30 17:26</td>\n",
       "      <td>Philosophize This!</td>\n",
       "      <td>Episode #001 ... Presocratic Philosophy - Ionian</td>\n",
       "      <td>2188097</td>\n",
       "    </tr>\n",
       "    <tr>\n",
       "      <th>2</th>\n",
       "      <td>2020-12-31 07:09</td>\n",
       "      <td>Dastic</td>\n",
       "      <td>With Me</td>\n",
       "      <td>2530</td>\n",
       "    </tr>\n",
       "    <tr>\n",
       "      <th>3</th>\n",
       "      <td>2020-12-31 07:12</td>\n",
       "      <td>Mark Sixma</td>\n",
       "      <td>Meet Again</td>\n",
       "      <td>186307</td>\n",
       "    </tr>\n",
       "    <tr>\n",
       "      <th>4</th>\n",
       "      <td>2020-12-31 07:15</td>\n",
       "      <td>Jubël</td>\n",
       "      <td>Dancing In The Moonlight (feat. NEIMY) - Tiëst...</td>\n",
       "      <td>147146</td>\n",
       "    </tr>\n",
       "  </tbody>\n",
       "</table>\n",
       "</div>"
      ],
      "text/plain": [
       "            endTime          artistName  \\\n",
       "0  2020-12-30 15:23              Dastic   \n",
       "1  2020-12-30 17:26  Philosophize This!   \n",
       "2  2020-12-31 07:09              Dastic   \n",
       "3  2020-12-31 07:12          Mark Sixma   \n",
       "4  2020-12-31 07:15               Jubël   \n",
       "\n",
       "                                           trackName  msPlayed  \n",
       "0                                            With Me     89517  \n",
       "1   Episode #001 ... Presocratic Philosophy - Ionian   2188097  \n",
       "2                                            With Me      2530  \n",
       "3                                         Meet Again    186307  \n",
       "4  Dancing In The Moonlight (feat. NEIMY) - Tiëst...    147146  "
      ]
     },
     "execution_count": 34,
     "metadata": {},
     "output_type": "execute_result"
    }
   ],
   "source": [
    "history.head()"
   ]
  },
  {
   "cell_type": "markdown",
   "id": "7c869c44",
   "metadata": {},
   "source": [
    "# Getting features of played songs\n"
   ]
  },
  {
   "cell_type": "markdown",
   "id": "45aa626f",
   "metadata": {},
   "source": [
    "### Flow \n",
    "\n",
    "1. Get the id of the songs through Artist name and track name \n",
    "2. Get track features from id "
   ]
  },
  {
   "cell_type": "code",
   "execution_count": 15,
   "id": "1c725101",
   "metadata": {},
   "outputs": [],
   "source": [
    "import requests\n",
    "import spotipy\n",
    "from spotipy.oauth2 import SpotifyOAuth\n",
    "import pandas as pd\n",
    "import time\n",
    "import datetime"
   ]
  },
  {
   "cell_type": "code",
   "execution_count": null,
   "id": "5b9d0f52",
   "metadata": {},
   "outputs": [],
   "source": []
  },
  {
   "cell_type": "code",
   "execution_count": 16,
   "id": "b1692530",
   "metadata": {},
   "outputs": [],
   "source": [
    "SPOTIPY_CLIENT_ID=''\n",
    "SPOTIPY_CLIENT_SECRET=''\n",
    "SPOTIPY_REDIRECT_URI='http://127.0.0.1:9090/'\n",
    "SCOPE = \"user-top-read\""
   ]
  },
  {
   "cell_type": "code",
   "execution_count": 17,
   "id": "0c5eb3f6",
   "metadata": {},
   "outputs": [],
   "source": [
    "sp = spotipy.Spotify(auth_manager=SpotifyOAuth(client_id=SPOTIPY_CLIENT_ID, \n",
    "                                               client_secret=SPOTIPY_CLIENT_SECRET, \n",
    "                                               redirect_uri=SPOTIPY_REDIRECT_URI, \n",
    "                                               scope=SCOPE))"
   ]
  },
  {
   "cell_type": "markdown",
   "id": "408ffbb4",
   "metadata": {},
   "source": [
    "## Getting track id "
   ]
  },
  {
   "cell_type": "code",
   "execution_count": 18,
   "id": "24dd2e84",
   "metadata": {},
   "outputs": [],
   "source": [
    "unique_songs = history.groupby(['trackName', 'artistName']).size().reset_index(name='Freq') # extracting unique songs "
   ]
  },
  {
   "cell_type": "code",
   "execution_count": 19,
   "id": "e8ee3a49",
   "metadata": {},
   "outputs": [],
   "source": [
    "unique_songs = unique_songs.sort_values(by = 'Freq',ascending = False).reset_index(drop =True)"
   ]
  },
  {
   "cell_type": "code",
   "execution_count": 20,
   "id": "687c5815",
   "metadata": {},
   "outputs": [],
   "source": [
    "unique_songs['id'] = np.nan"
   ]
  },
  {
   "cell_type": "code",
   "execution_count": 23,
   "id": "7d58b506",
   "metadata": {},
   "outputs": [],
   "source": [
    "def get_song_id(artist,track):\n",
    "    try:\n",
    "        q = 'artist:{} track: {}'.format(artist, track)\n",
    "        results = sp.search(q=q, limit=1, type='track')\n",
    "        id = results['tracks']['items'][0]['id']\n",
    "        return id\n",
    "    except:\n",
    "        return"
   ]
  },
  {
   "cell_type": "code",
   "execution_count": 24,
   "id": "41ee6a88",
   "metadata": {},
   "outputs": [
    {
     "name": "stderr",
     "output_type": "stream",
     "text": [
      "<ipython-input-24-09d207938b04>:5: SettingWithCopyWarning: \n",
      "A value is trying to be set on a copy of a slice from a DataFrame\n",
      "\n",
      "See the caveats in the documentation: https://pandas.pydata.org/pandas-docs/stable/user_guide/indexing.html#returning-a-view-versus-a-copy\n",
      "  unique_songs['id'][i] = track_id\n",
      "C:\\Users\\Lohiya\\anaconda3\\lib\\site-packages\\pandas\\core\\indexing.py:1637: SettingWithCopyWarning: \n",
      "A value is trying to be set on a copy of a slice from a DataFrame\n",
      "\n",
      "See the caveats in the documentation: https://pandas.pydata.org/pandas-docs/stable/user_guide/indexing.html#returning-a-view-versus-a-copy\n",
      "  self._setitem_single_block(indexer, value, name)\n"
     ]
    }
   ],
   "source": [
    "for i in unique_songs.index.to_list():\n",
    "    artist =unique_songs.iloc[i,1]\n",
    "    track = unique_songs.iloc[i,0]\n",
    "    track_id = get_song_id(artist,track)\n",
    "    unique_songs['id'][i] = track_id"
   ]
  },
  {
   "cell_type": "code",
   "execution_count": 25,
   "id": "2090e1d1",
   "metadata": {
    "scrolled": true
   },
   "outputs": [],
   "source": [
    "unique_songs.dropna(inplace =True) "
   ]
  },
  {
   "cell_type": "code",
   "execution_count": 26,
   "id": "6738a578",
   "metadata": {
    "scrolled": true
   },
   "outputs": [
    {
     "data": {
      "text/html": [
       "<div>\n",
       "<style scoped>\n",
       "    .dataframe tbody tr th:only-of-type {\n",
       "        vertical-align: middle;\n",
       "    }\n",
       "\n",
       "    .dataframe tbody tr th {\n",
       "        vertical-align: top;\n",
       "    }\n",
       "\n",
       "    .dataframe thead th {\n",
       "        text-align: right;\n",
       "    }\n",
       "</style>\n",
       "<table border=\"1\" class=\"dataframe\">\n",
       "  <thead>\n",
       "    <tr style=\"text-align: right;\">\n",
       "      <th></th>\n",
       "      <th>trackName</th>\n",
       "      <th>artistName</th>\n",
       "      <th>Freq</th>\n",
       "      <th>id</th>\n",
       "    </tr>\n",
       "  </thead>\n",
       "  <tbody>\n",
       "    <tr>\n",
       "      <th>66</th>\n",
       "      <td>You Right</td>\n",
       "      <td>Doja Cat</td>\n",
       "      <td>23</td>\n",
       "      <td>0k4d5YPDr1r7FX77VdqWez</td>\n",
       "    </tr>\n",
       "    <tr>\n",
       "      <th>67</th>\n",
       "      <td>Home with You</td>\n",
       "      <td>Madison Beer</td>\n",
       "      <td>23</td>\n",
       "      <td>0iwsQWgtjSq2kUXuZwTDAL</td>\n",
       "    </tr>\n",
       "    <tr>\n",
       "      <th>68</th>\n",
       "      <td>Kissing Strangers</td>\n",
       "      <td>DNCE</td>\n",
       "      <td>22</td>\n",
       "      <td>1NkwZ9TnIs8js6G0M6M7RU</td>\n",
       "    </tr>\n",
       "    <tr>\n",
       "      <th>69</th>\n",
       "      <td>Bad Blood</td>\n",
       "      <td>Taylor Swift</td>\n",
       "      <td>22</td>\n",
       "      <td>0TvQLMecTE8utzoNmvXRbK</td>\n",
       "    </tr>\n",
       "    <tr>\n",
       "      <th>70</th>\n",
       "      <td>Break My Face</td>\n",
       "      <td>AJR</td>\n",
       "      <td>22</td>\n",
       "      <td>60eAbsb4svFn3d62wfwEUe</td>\n",
       "    </tr>\n",
       "    <tr>\n",
       "      <th>71</th>\n",
       "      <td>Remember The Name (feat. Eminem &amp; 50 Cent)</td>\n",
       "      <td>Ed Sheeran</td>\n",
       "      <td>22</td>\n",
       "      <td>0AtP8EkGPn6SwxKDaUuXec</td>\n",
       "    </tr>\n",
       "    <tr>\n",
       "      <th>72</th>\n",
       "      <td>Gorgeous</td>\n",
       "      <td>Taylor Swift</td>\n",
       "      <td>22</td>\n",
       "      <td>1ZY1PqizIl78geGM4xWlEA</td>\n",
       "    </tr>\n",
       "    <tr>\n",
       "      <th>73</th>\n",
       "      <td>No One Compares To You</td>\n",
       "      <td>Jack &amp; Jack</td>\n",
       "      <td>22</td>\n",
       "      <td>4cZ3UsiKd1kUQIaq4BFIj2</td>\n",
       "    </tr>\n",
       "    <tr>\n",
       "      <th>74</th>\n",
       "      <td>What A Man Gotta Do</td>\n",
       "      <td>Jonas Brothers</td>\n",
       "      <td>22</td>\n",
       "      <td>4wNIkl5XGiAACjFBlDWuSd</td>\n",
       "    </tr>\n",
       "    <tr>\n",
       "      <th>75</th>\n",
       "      <td>Drag Me Down</td>\n",
       "      <td>One Direction</td>\n",
       "      <td>22</td>\n",
       "      <td>2K87XMYnUMqLcX3zvtAF4G</td>\n",
       "    </tr>\n",
       "    <tr>\n",
       "      <th>76</th>\n",
       "      <td>Shivers</td>\n",
       "      <td>Ed Sheeran</td>\n",
       "      <td>22</td>\n",
       "      <td>50nfwKoDiSYg8zOCREWAm5</td>\n",
       "    </tr>\n",
       "    <tr>\n",
       "      <th>78</th>\n",
       "      <td>Goosebumps - Remix</td>\n",
       "      <td>Travis Scott</td>\n",
       "      <td>21</td>\n",
       "      <td>5uEYRdEIh9Bo4fpjDd4Na9</td>\n",
       "    </tr>\n",
       "    <tr>\n",
       "      <th>79</th>\n",
       "      <td>Thunder</td>\n",
       "      <td>Imagine Dragons</td>\n",
       "      <td>21</td>\n",
       "      <td>1zB4vmk8tFRmM9UULNzbLB</td>\n",
       "    </tr>\n",
       "    <tr>\n",
       "      <th>80</th>\n",
       "      <td>imagine</td>\n",
       "      <td>Ariana Grande</td>\n",
       "      <td>21</td>\n",
       "      <td>39LmTF9RgyakzSYX8txrow</td>\n",
       "    </tr>\n",
       "    <tr>\n",
       "      <th>81</th>\n",
       "      <td>Stand Out Fit In</td>\n",
       "      <td>ONE OK ROCK</td>\n",
       "      <td>21</td>\n",
       "      <td>4zXRMjTaeflesB3Ih4eHnJ</td>\n",
       "    </tr>\n",
       "    <tr>\n",
       "      <th>82</th>\n",
       "      <td>Prisoner (feat. Dua Lipa)</td>\n",
       "      <td>Miley Cyrus</td>\n",
       "      <td>21</td>\n",
       "      <td>5JqZ3oqF00jkT81foAFvqg</td>\n",
       "    </tr>\n",
       "    <tr>\n",
       "      <th>83</th>\n",
       "      <td>One Last Time</td>\n",
       "      <td>Ariana Grande</td>\n",
       "      <td>21</td>\n",
       "      <td>7xoUc6faLbCqZO6fQEYprd</td>\n",
       "    </tr>\n",
       "    <tr>\n",
       "      <th>84</th>\n",
       "      <td>Girls Like You</td>\n",
       "      <td>Maroon 5</td>\n",
       "      <td>21</td>\n",
       "      <td>7fa9MBXhVfQ8P8Df9OEbD8</td>\n",
       "    </tr>\n",
       "    <tr>\n",
       "      <th>85</th>\n",
       "      <td>Shower</td>\n",
       "      <td>Becky G</td>\n",
       "      <td>21</td>\n",
       "      <td>3DmW6y7wTEYHJZlLo1r6XJ</td>\n",
       "    </tr>\n",
       "  </tbody>\n",
       "</table>\n",
       "</div>"
      ],
      "text/plain": [
       "                                     trackName       artistName  Freq  \\\n",
       "66                                   You Right         Doja Cat    23   \n",
       "67                               Home with You     Madison Beer    23   \n",
       "68                           Kissing Strangers             DNCE    22   \n",
       "69                                   Bad Blood     Taylor Swift    22   \n",
       "70                               Break My Face              AJR    22   \n",
       "71  Remember The Name (feat. Eminem & 50 Cent)       Ed Sheeran    22   \n",
       "72                                    Gorgeous     Taylor Swift    22   \n",
       "73                      No One Compares To You      Jack & Jack    22   \n",
       "74                         What A Man Gotta Do   Jonas Brothers    22   \n",
       "75                                Drag Me Down    One Direction    22   \n",
       "76                                     Shivers       Ed Sheeran    22   \n",
       "78                          Goosebumps - Remix     Travis Scott    21   \n",
       "79                                     Thunder  Imagine Dragons    21   \n",
       "80                                     imagine    Ariana Grande    21   \n",
       "81                            Stand Out Fit In      ONE OK ROCK    21   \n",
       "82                   Prisoner (feat. Dua Lipa)      Miley Cyrus    21   \n",
       "83                               One Last Time    Ariana Grande    21   \n",
       "84                              Girls Like You         Maroon 5    21   \n",
       "85                                      Shower          Becky G    21   \n",
       "\n",
       "                        id  \n",
       "66  0k4d5YPDr1r7FX77VdqWez  \n",
       "67  0iwsQWgtjSq2kUXuZwTDAL  \n",
       "68  1NkwZ9TnIs8js6G0M6M7RU  \n",
       "69  0TvQLMecTE8utzoNmvXRbK  \n",
       "70  60eAbsb4svFn3d62wfwEUe  \n",
       "71  0AtP8EkGPn6SwxKDaUuXec  \n",
       "72  1ZY1PqizIl78geGM4xWlEA  \n",
       "73  4cZ3UsiKd1kUQIaq4BFIj2  \n",
       "74  4wNIkl5XGiAACjFBlDWuSd  \n",
       "75  2K87XMYnUMqLcX3zvtAF4G  \n",
       "76  50nfwKoDiSYg8zOCREWAm5  \n",
       "78  5uEYRdEIh9Bo4fpjDd4Na9  \n",
       "79  1zB4vmk8tFRmM9UULNzbLB  \n",
       "80  39LmTF9RgyakzSYX8txrow  \n",
       "81  4zXRMjTaeflesB3Ih4eHnJ  \n",
       "82  5JqZ3oqF00jkT81foAFvqg  \n",
       "83  7xoUc6faLbCqZO6fQEYprd  \n",
       "84  7fa9MBXhVfQ8P8Df9OEbD8  \n",
       "85  3DmW6y7wTEYHJZlLo1r6XJ  "
      ]
     },
     "execution_count": 26,
     "metadata": {},
     "output_type": "execute_result"
    }
   ],
   "source": [
    "unique_songs[66:85]"
   ]
  },
  {
   "cell_type": "markdown",
   "id": "442ad0f1",
   "metadata": {},
   "source": [
    "## Getting track fearture "
   ]
  },
  {
   "cell_type": "code",
   "execution_count": 27,
   "id": "96a964ae",
   "metadata": {},
   "outputs": [],
   "source": [
    "clms = ['trackName','artistName','id','danceability','energy','key','loudness','mode','speechiness','acousticness','instrumentalness','liveness','valence','tempo','duration_ms','time_signature']\n",
    "track_features = pd.DataFrame(columns=clms)"
   ]
  },
  {
   "cell_type": "code",
   "execution_count": 28,
   "id": "8678dbba",
   "metadata": {},
   "outputs": [
    {
     "data": {
      "text/html": [
       "<div>\n",
       "<style scoped>\n",
       "    .dataframe tbody tr th:only-of-type {\n",
       "        vertical-align: middle;\n",
       "    }\n",
       "\n",
       "    .dataframe tbody tr th {\n",
       "        vertical-align: top;\n",
       "    }\n",
       "\n",
       "    .dataframe thead th {\n",
       "        text-align: right;\n",
       "    }\n",
       "</style>\n",
       "<table border=\"1\" class=\"dataframe\">\n",
       "  <thead>\n",
       "    <tr style=\"text-align: right;\">\n",
       "      <th></th>\n",
       "      <th>trackName</th>\n",
       "      <th>artistName</th>\n",
       "      <th>id</th>\n",
       "      <th>danceability</th>\n",
       "      <th>energy</th>\n",
       "      <th>key</th>\n",
       "      <th>loudness</th>\n",
       "      <th>mode</th>\n",
       "      <th>speechiness</th>\n",
       "      <th>acousticness</th>\n",
       "      <th>instrumentalness</th>\n",
       "      <th>liveness</th>\n",
       "      <th>valence</th>\n",
       "      <th>tempo</th>\n",
       "      <th>duration_ms</th>\n",
       "      <th>time_signature</th>\n",
       "    </tr>\n",
       "  </thead>\n",
       "  <tbody>\n",
       "  </tbody>\n",
       "</table>\n",
       "</div>"
      ],
      "text/plain": [
       "Empty DataFrame\n",
       "Columns: [trackName, artistName, id, danceability, energy, key, loudness, mode, speechiness, acousticness, instrumentalness, liveness, valence, tempo, duration_ms, time_signature]\n",
       "Index: []"
      ]
     },
     "execution_count": 28,
     "metadata": {},
     "output_type": "execute_result"
    }
   ],
   "source": [
    "track_features"
   ]
  },
  {
   "cell_type": "code",
   "execution_count": 29,
   "id": "1779624a",
   "metadata": {},
   "outputs": [],
   "source": [
    "def get_feature(track_features,trackName,artistName,id):\n",
    "    \n",
    "    clms = ['trackName','artistName','id','danceability','energy','key','loudness','mode','speechiness','acousticness','instrumentalness','liveness','valence','tempo','duration_ms','time_signature']\n",
    "    track = {'trackName':trackName,'artistName':artistName}\n",
    "    meta = sp.audio_features(id)\n",
    "    track.update(meta[0])\n",
    "    tempDf = pd.DataFrame.from_dict([track])[clms]\n",
    "    track_features = pd.concat([track_features,tempDf],ignore_index=True)\n",
    "    return track_features\n",
    "    "
   ]
  },
  {
   "cell_type": "code",
   "execution_count": 30,
   "id": "9f36c804",
   "metadata": {
    "scrolled": true
   },
   "outputs": [],
   "source": [
    "for i in unique_songs.index[1:]:\n",
    "    trackName = unique_songs['trackName'][i]\n",
    "    artistName = unique_songs['artistName'][i]\n",
    "\n",
    "    id = unique_songs['id'][i]\n",
    "    track_features = get_feature(track_features,trackName,artistName,id)"
   ]
  },
  {
   "cell_type": "code",
   "execution_count": 31,
   "id": "3456c45d",
   "metadata": {},
   "outputs": [
    {
     "data": {
      "text/plain": [
       "trackName           0\n",
       "artistName          0\n",
       "id                  0\n",
       "danceability        0\n",
       "energy              0\n",
       "key                 0\n",
       "loudness            0\n",
       "mode                0\n",
       "speechiness         0\n",
       "acousticness        0\n",
       "instrumentalness    0\n",
       "liveness            0\n",
       "valence             0\n",
       "tempo               0\n",
       "duration_ms         0\n",
       "time_signature      0\n",
       "dtype: int64"
      ]
     },
     "execution_count": 31,
     "metadata": {},
     "output_type": "execute_result"
    }
   ],
   "source": [
    "track_features.isna().sum()"
   ]
  },
  {
   "cell_type": "markdown",
   "id": "394890e2",
   "metadata": {},
   "source": [
    "## exporting the data "
   ]
  },
  {
   "cell_type": "code",
   "execution_count": 32,
   "id": "03cda3dc",
   "metadata": {},
   "outputs": [],
   "source": [
    "track_features.to_csv('MyData/track_features.csv')"
   ]
  },
  {
   "cell_type": "code",
   "execution_count": 33,
   "id": "80018fc7",
   "metadata": {},
   "outputs": [],
   "source": [
    "unique_songs.to_csv('MyData/unique_songs.csv')"
   ]
  },
  {
   "cell_type": "code",
   "execution_count": null,
   "id": "a67d4af8",
   "metadata": {},
   "outputs": [],
   "source": []
  },
  {
   "cell_type": "code",
   "execution_count": null,
   "id": "30cca910",
   "metadata": {},
   "outputs": [],
   "source": []
  }
 ],
 "metadata": {
  "kernelspec": {
   "display_name": "Python 3",
   "language": "python",
   "name": "python3"
  },
  "language_info": {
   "codemirror_mode": {
    "name": "ipython",
    "version": 3
   },
   "file_extension": ".py",
   "mimetype": "text/x-python",
   "name": "python",
   "nbconvert_exporter": "python",
   "pygments_lexer": "ipython3",
   "version": "3.8.8"
  }
 },
 "nbformat": 4,
 "nbformat_minor": 5
}
